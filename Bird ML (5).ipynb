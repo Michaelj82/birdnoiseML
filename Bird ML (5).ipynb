{
 "cells": [
  {
   "cell_type": "markdown",
   "id": "f19642af",
   "metadata": {},
   "source": [
    "Importing Necessary Modules\n"
   ]
  },
  {
   "cell_type": "code",
   "execution_count": 2,
   "id": "b3237369",
   "metadata": {},
   "outputs": [],
   "source": [
    "import pandas as pd\n",
    "import numpy as np\n",
    "from matplotlib import pyplot as plt\n",
    "import librosa\n",
    "import librosa.display\n",
    "from sklearn.metrics import confusion_matrix, ConfusionMatrixDisplay"
   ]
  },
  {
   "cell_type": "markdown",
   "id": "51ed2f49",
   "metadata": {},
   "source": [
    "Importing data"
   ]
  },
  {
   "cell_type": "code",
   "execution_count": 3,
   "id": "93245080",
   "metadata": {},
   "outputs": [],
   "source": [
    "train_data = pd.read_csv(\"C:\\\\Users\\\\mjjyo\\\\OneDrive\\\\Desktop\\\\birdclef-2023\\\\train_metadata.csv\")"
   ]
  },
  {
   "cell_type": "markdown",
   "id": "f86010e8",
   "metadata": {},
   "source": [
    "Cleaning data"
   ]
  },
  {
   "cell_type": "code",
   "execution_count": 3,
   "id": "5202aa8d",
   "metadata": {},
   "outputs": [
    {
     "data": {
      "text/html": [
       "<div>\n",
       "<style scoped>\n",
       "    .dataframe tbody tr th:only-of-type {\n",
       "        vertical-align: middle;\n",
       "    }\n",
       "\n",
       "    .dataframe tbody tr th {\n",
       "        vertical-align: top;\n",
       "    }\n",
       "\n",
       "    .dataframe thead th {\n",
       "        text-align: right;\n",
       "    }\n",
       "</style>\n",
       "<table border=\"1\" class=\"dataframe\">\n",
       "  <thead>\n",
       "    <tr style=\"text-align: right;\">\n",
       "      <th></th>\n",
       "      <th>primary_label</th>\n",
       "      <th>secondary_labels</th>\n",
       "      <th>type</th>\n",
       "      <th>latitude</th>\n",
       "      <th>longitude</th>\n",
       "      <th>scientific_name</th>\n",
       "      <th>common_name</th>\n",
       "      <th>author</th>\n",
       "      <th>license</th>\n",
       "      <th>rating</th>\n",
       "      <th>url</th>\n",
       "      <th>filename</th>\n",
       "    </tr>\n",
       "  </thead>\n",
       "  <tbody>\n",
       "    <tr>\n",
       "      <th>0</th>\n",
       "      <td>abethr1</td>\n",
       "      <td>[]</td>\n",
       "      <td>['song']</td>\n",
       "      <td>4.3906</td>\n",
       "      <td>38.2788</td>\n",
       "      <td>Turdus tephronotus</td>\n",
       "      <td>African Bare-eyed Thrush</td>\n",
       "      <td>Rolf A. de By</td>\n",
       "      <td>Creative Commons Attribution-NonCommercial-Sha...</td>\n",
       "      <td>4.0</td>\n",
       "      <td>https://www.xeno-canto.org/128013</td>\n",
       "      <td>abethr1/XC128013.ogg</td>\n",
       "    </tr>\n",
       "    <tr>\n",
       "      <th>1</th>\n",
       "      <td>abethr1</td>\n",
       "      <td>[]</td>\n",
       "      <td>['call']</td>\n",
       "      <td>-2.9524</td>\n",
       "      <td>38.2921</td>\n",
       "      <td>Turdus tephronotus</td>\n",
       "      <td>African Bare-eyed Thrush</td>\n",
       "      <td>James Bradley</td>\n",
       "      <td>Creative Commons Attribution-NonCommercial-Sha...</td>\n",
       "      <td>3.5</td>\n",
       "      <td>https://www.xeno-canto.org/363501</td>\n",
       "      <td>abethr1/XC363501.ogg</td>\n",
       "    </tr>\n",
       "    <tr>\n",
       "      <th>2</th>\n",
       "      <td>abethr1</td>\n",
       "      <td>[]</td>\n",
       "      <td>['song']</td>\n",
       "      <td>-2.9524</td>\n",
       "      <td>38.2921</td>\n",
       "      <td>Turdus tephronotus</td>\n",
       "      <td>African Bare-eyed Thrush</td>\n",
       "      <td>James Bradley</td>\n",
       "      <td>Creative Commons Attribution-NonCommercial-Sha...</td>\n",
       "      <td>3.5</td>\n",
       "      <td>https://www.xeno-canto.org/363502</td>\n",
       "      <td>abethr1/XC363502.ogg</td>\n",
       "    </tr>\n",
       "    <tr>\n",
       "      <th>3</th>\n",
       "      <td>abethr1</td>\n",
       "      <td>[]</td>\n",
       "      <td>['song']</td>\n",
       "      <td>-2.9524</td>\n",
       "      <td>38.2921</td>\n",
       "      <td>Turdus tephronotus</td>\n",
       "      <td>African Bare-eyed Thrush</td>\n",
       "      <td>James Bradley</td>\n",
       "      <td>Creative Commons Attribution-NonCommercial-Sha...</td>\n",
       "      <td>5.0</td>\n",
       "      <td>https://www.xeno-canto.org/363503</td>\n",
       "      <td>abethr1/XC363503.ogg</td>\n",
       "    </tr>\n",
       "    <tr>\n",
       "      <th>4</th>\n",
       "      <td>abethr1</td>\n",
       "      <td>[]</td>\n",
       "      <td>['call', 'song']</td>\n",
       "      <td>-2.9524</td>\n",
       "      <td>38.2921</td>\n",
       "      <td>Turdus tephronotus</td>\n",
       "      <td>African Bare-eyed Thrush</td>\n",
       "      <td>James Bradley</td>\n",
       "      <td>Creative Commons Attribution-NonCommercial-Sha...</td>\n",
       "      <td>4.5</td>\n",
       "      <td>https://www.xeno-canto.org/363504</td>\n",
       "      <td>abethr1/XC363504.ogg</td>\n",
       "    </tr>\n",
       "    <tr>\n",
       "      <th>...</th>\n",
       "      <td>...</td>\n",
       "      <td>...</td>\n",
       "      <td>...</td>\n",
       "      <td>...</td>\n",
       "      <td>...</td>\n",
       "      <td>...</td>\n",
       "      <td>...</td>\n",
       "      <td>...</td>\n",
       "      <td>...</td>\n",
       "      <td>...</td>\n",
       "      <td>...</td>\n",
       "      <td>...</td>\n",
       "    </tr>\n",
       "    <tr>\n",
       "      <th>16936</th>\n",
       "      <td>yewgre1</td>\n",
       "      <td>[]</td>\n",
       "      <td>['']</td>\n",
       "      <td>-1.2502</td>\n",
       "      <td>29.7971</td>\n",
       "      <td>Eurillas latirostris</td>\n",
       "      <td>Yellow-whiskered Greenbul</td>\n",
       "      <td>András Schmidt</td>\n",
       "      <td>Creative Commons Attribution-NonCommercial-Sha...</td>\n",
       "      <td>3.0</td>\n",
       "      <td>https://xeno-canto.org/703472</td>\n",
       "      <td>yewgre1/XC703472.ogg</td>\n",
       "    </tr>\n",
       "    <tr>\n",
       "      <th>16937</th>\n",
       "      <td>yewgre1</td>\n",
       "      <td>[]</td>\n",
       "      <td>['']</td>\n",
       "      <td>-1.2489</td>\n",
       "      <td>29.7923</td>\n",
       "      <td>Eurillas latirostris</td>\n",
       "      <td>Yellow-whiskered Greenbul</td>\n",
       "      <td>András Schmidt</td>\n",
       "      <td>Creative Commons Attribution-NonCommercial-Sha...</td>\n",
       "      <td>4.0</td>\n",
       "      <td>https://xeno-canto.org/703485</td>\n",
       "      <td>yewgre1/XC703485.ogg</td>\n",
       "    </tr>\n",
       "    <tr>\n",
       "      <th>16938</th>\n",
       "      <td>yewgre1</td>\n",
       "      <td>[]</td>\n",
       "      <td>['']</td>\n",
       "      <td>-1.2433</td>\n",
       "      <td>29.7844</td>\n",
       "      <td>Eurillas latirostris</td>\n",
       "      <td>Yellow-whiskered Greenbul</td>\n",
       "      <td>András Schmidt</td>\n",
       "      <td>Creative Commons Attribution-NonCommercial-Sha...</td>\n",
       "      <td>4.0</td>\n",
       "      <td>https://xeno-canto.org/704433</td>\n",
       "      <td>yewgre1/XC704433.ogg</td>\n",
       "    </tr>\n",
       "    <tr>\n",
       "      <th>16939</th>\n",
       "      <td>yewgre1</td>\n",
       "      <td>[]</td>\n",
       "      <td>['']</td>\n",
       "      <td>0.0452</td>\n",
       "      <td>36.3699</td>\n",
       "      <td>Eurillas latirostris</td>\n",
       "      <td>Yellow-whiskered Greenbul</td>\n",
       "      <td>Lars Lachmann</td>\n",
       "      <td>Creative Commons Attribution-NonCommercial-Sha...</td>\n",
       "      <td>4.0</td>\n",
       "      <td>https://xeno-canto.org/752974</td>\n",
       "      <td>yewgre1/XC752974.ogg</td>\n",
       "    </tr>\n",
       "    <tr>\n",
       "      <th>16940</th>\n",
       "      <td>yewgre1</td>\n",
       "      <td>[]</td>\n",
       "      <td>['']</td>\n",
       "      <td>-0.3986</td>\n",
       "      <td>37.3087</td>\n",
       "      <td>Eurillas latirostris</td>\n",
       "      <td>Yellow-whiskered Greenbul</td>\n",
       "      <td>Lars Lachmann</td>\n",
       "      <td>Creative Commons Attribution-NonCommercial-Sha...</td>\n",
       "      <td>4.5</td>\n",
       "      <td>https://xeno-canto.org/753190</td>\n",
       "      <td>yewgre1/XC753190.ogg</td>\n",
       "    </tr>\n",
       "  </tbody>\n",
       "</table>\n",
       "<p>16714 rows × 12 columns</p>\n",
       "</div>"
      ],
      "text/plain": [
       "      primary_label secondary_labels              type  latitude  longitude  \\\n",
       "0           abethr1               []          ['song']    4.3906    38.2788   \n",
       "1           abethr1               []          ['call']   -2.9524    38.2921   \n",
       "2           abethr1               []          ['song']   -2.9524    38.2921   \n",
       "3           abethr1               []          ['song']   -2.9524    38.2921   \n",
       "4           abethr1               []  ['call', 'song']   -2.9524    38.2921   \n",
       "...             ...              ...               ...       ...        ...   \n",
       "16936       yewgre1               []              ['']   -1.2502    29.7971   \n",
       "16937       yewgre1               []              ['']   -1.2489    29.7923   \n",
       "16938       yewgre1               []              ['']   -1.2433    29.7844   \n",
       "16939       yewgre1               []              ['']    0.0452    36.3699   \n",
       "16940       yewgre1               []              ['']   -0.3986    37.3087   \n",
       "\n",
       "            scientific_name                common_name          author  \\\n",
       "0        Turdus tephronotus   African Bare-eyed Thrush   Rolf A. de By   \n",
       "1        Turdus tephronotus   African Bare-eyed Thrush   James Bradley   \n",
       "2        Turdus tephronotus   African Bare-eyed Thrush   James Bradley   \n",
       "3        Turdus tephronotus   African Bare-eyed Thrush   James Bradley   \n",
       "4        Turdus tephronotus   African Bare-eyed Thrush   James Bradley   \n",
       "...                     ...                        ...             ...   \n",
       "16936  Eurillas latirostris  Yellow-whiskered Greenbul  András Schmidt   \n",
       "16937  Eurillas latirostris  Yellow-whiskered Greenbul  András Schmidt   \n",
       "16938  Eurillas latirostris  Yellow-whiskered Greenbul  András Schmidt   \n",
       "16939  Eurillas latirostris  Yellow-whiskered Greenbul   Lars Lachmann   \n",
       "16940  Eurillas latirostris  Yellow-whiskered Greenbul   Lars Lachmann   \n",
       "\n",
       "                                                 license  rating  \\\n",
       "0      Creative Commons Attribution-NonCommercial-Sha...     4.0   \n",
       "1      Creative Commons Attribution-NonCommercial-Sha...     3.5   \n",
       "2      Creative Commons Attribution-NonCommercial-Sha...     3.5   \n",
       "3      Creative Commons Attribution-NonCommercial-Sha...     5.0   \n",
       "4      Creative Commons Attribution-NonCommercial-Sha...     4.5   \n",
       "...                                                  ...     ...   \n",
       "16936  Creative Commons Attribution-NonCommercial-Sha...     3.0   \n",
       "16937  Creative Commons Attribution-NonCommercial-Sha...     4.0   \n",
       "16938  Creative Commons Attribution-NonCommercial-Sha...     4.0   \n",
       "16939  Creative Commons Attribution-NonCommercial-Sha...     4.0   \n",
       "16940  Creative Commons Attribution-NonCommercial-Sha...     4.5   \n",
       "\n",
       "                                     url              filename  \n",
       "0      https://www.xeno-canto.org/128013  abethr1/XC128013.ogg  \n",
       "1      https://www.xeno-canto.org/363501  abethr1/XC363501.ogg  \n",
       "2      https://www.xeno-canto.org/363502  abethr1/XC363502.ogg  \n",
       "3      https://www.xeno-canto.org/363503  abethr1/XC363503.ogg  \n",
       "4      https://www.xeno-canto.org/363504  abethr1/XC363504.ogg  \n",
       "...                                  ...                   ...  \n",
       "16936      https://xeno-canto.org/703472  yewgre1/XC703472.ogg  \n",
       "16937      https://xeno-canto.org/703485  yewgre1/XC703485.ogg  \n",
       "16938      https://xeno-canto.org/704433  yewgre1/XC704433.ogg  \n",
       "16939      https://xeno-canto.org/752974  yewgre1/XC752974.ogg  \n",
       "16940      https://xeno-canto.org/753190  yewgre1/XC753190.ogg  \n",
       "\n",
       "[16714 rows x 12 columns]"
      ]
     },
     "execution_count": 3,
     "metadata": {},
     "output_type": "execute_result"
    }
   ],
   "source": [
    "train_data.dropna()"
   ]
  },
  {
   "cell_type": "markdown",
   "id": "90c2dd4b",
   "metadata": {},
   "source": [
    "Making y the results to train off of (names of birds)"
   ]
  },
  {
   "cell_type": "code",
   "execution_count": 4,
   "id": "e2d21cb7",
   "metadata": {},
   "outputs": [],
   "source": [
    "\n",
    "y = train_data['common_name'].dropna().tolist()\n"
   ]
  },
  {
   "cell_type": "markdown",
   "id": "b8542b86",
   "metadata": {},
   "source": [
    "Creating X list"
   ]
  },
  {
   "cell_type": "code",
   "execution_count": 5,
   "id": "b7ffb185",
   "metadata": {},
   "outputs": [],
   "source": [
    "X = []"
   ]
  },
  {
   "cell_type": "markdown",
   "id": "485bf914",
   "metadata": {},
   "source": [
    "Creting function to get features from each audio recording of a bird, then return the array of features for ML training"
   ]
  },
  {
   "cell_type": "code",
   "execution_count": 6,
   "id": "d2d6a308",
   "metadata": {},
   "outputs": [],
   "source": [
    "#audio files, get the path from the filename column\n",
    "audio_input = train_data['filename'].dropna()\n",
    "\n",
    "#function to get features\n",
    "def get_audio_information(audio_files, result_list):\n",
    "    \n",
    "    for i, j in audio_files.iteritems():\n",
    "        #Take the given file in filename column and split by /\n",
    "        adjusted = j.split(\"/\")\n",
    "        #change file to a readable format\n",
    "        file = \"C:\\\\Users\\\\mjjyo\\\\OneDrive\\\\Desktop\\\\birdclef-2023\\\\train_audio\\\\\" + adjusted[0] + \"\\\\\" + adjusted[1]\n",
    "        \n",
    "        #preparing librosa analysis\n",
    "        y_, sr = librosa.load(file)\n",
    "        #getting numerous features\n",
    "        mfccs = librosa.feature.mfcc(y=y_, sr=sr, n_mfcc=20)\n",
    "        chroma = librosa.feature.chroma_stft(y=y_, sr=sr)\n",
    "        mel_spec = librosa.feature.melspectrogram(y=y_, sr=sr, n_mels=128)\n",
    "        contrast = librosa.feature.spectral_contrast(y=y_, sr=sr)\n",
    "        tonnetz = librosa.feature.tonnetz(y=y_, sr=sr)\n",
    "        #concatenating the features into a np array\n",
    "        features = np.concatenate([mfccs.mean(axis=1), \n",
    "                                    mel_spec.mean(axis=1), \n",
    "                                    chroma.mean(axis=1),\n",
    "                                    contrast.mean(axis=1),\n",
    "                                    tonnetz.mean(axis=1)\n",
    "                                  ])\n",
    "\n",
    "        #flattening features\n",
    "        features = features.flatten()\n",
    "        \n",
    "        #adding to final list\n",
    "        result_list.append(features)\n",
    "\n",
    "    return result_list\n",
    "\n",
    "# X = get_audio_information(audio_input, X)\n",
    "#above was done, but saved in folder\n",
    "\n",
    "# np.savetxt(\"C:\\\\Users\\\\mjjyo\\\\OneDrive\\\\Desktop\\\\birdclef-2023\\\\saved_X.csv\", X, delimiter=',')\n",
    "\n",
    "#above was done\n"
   ]
  },
  {
   "cell_type": "markdown",
   "id": "848abc4a",
   "metadata": {},
   "source": [
    "Loading data that was created from the previous function (Initial function took a few hours to run)"
   ]
  },
  {
   "cell_type": "code",
   "execution_count": 7,
   "id": "d001c55c",
   "metadata": {},
   "outputs": [],
   "source": [
    "X = np.loadtxt(\"C:\\\\Users\\\\mjjyo\\\\OneDrive\\\\Desktop\\\\birdclef-2023\\\\saved_X.csv\", delimiter=',')"
   ]
  },
  {
   "cell_type": "code",
   "execution_count": null,
   "id": "5d0dcbe4",
   "metadata": {},
   "outputs": [],
   "source": []
  },
  {
   "cell_type": "code",
   "execution_count": 8,
   "id": "1f7b5ae6",
   "metadata": {},
   "outputs": [],
   "source": [
    "X = np.array(X)\n",
    "y = np.array(y)"
   ]
  },
  {
   "cell_type": "markdown",
   "id": "933077f8",
   "metadata": {},
   "source": [
    "Making sure lengths are the same"
   ]
  },
  {
   "cell_type": "code",
   "execution_count": 9,
   "id": "4875c8ce",
   "metadata": {},
   "outputs": [
    {
     "name": "stdout",
     "output_type": "stream",
     "text": [
      "16941 16941\n"
     ]
    }
   ],
   "source": [
    "print(len(y), len(X))"
   ]
  },
  {
   "cell_type": "markdown",
   "id": "b3240227",
   "metadata": {},
   "source": [
    "Making Random Forest Classifier"
   ]
  },
  {
   "cell_type": "code",
   "execution_count": 10,
   "id": "1d465afe",
   "metadata": {},
   "outputs": [],
   "source": [
    "from sklearn.ensemble import RandomForestClassifier\n",
    "from sklearn.model_selection import train_test_split"
   ]
  },
  {
   "cell_type": "markdown",
   "id": "0b4b5bc4",
   "metadata": {},
   "source": [
    "Splitting into train and test data"
   ]
  },
  {
   "cell_type": "code",
   "execution_count": 11,
   "id": "1e61beec",
   "metadata": {},
   "outputs": [],
   "source": [
    "X_train, X_test, y_train, y_test = train_test_split(X,\n",
    "                                                    y,\n",
    "                                                    test_size=0.2,\n",
    "                                                    random_state=100)\n"
   ]
  },
  {
   "cell_type": "markdown",
   "id": "b9e958a4",
   "metadata": {},
   "source": [
    "Creating Random Forest Classifier"
   ]
  },
  {
   "cell_type": "code",
   "execution_count": 12,
   "id": "0fd81bc6",
   "metadata": {},
   "outputs": [],
   "source": [
    "rfc = RandomForestClassifier(n_estimators=1500, random_state=100)\n"
   ]
  },
  {
   "cell_type": "markdown",
   "id": "2a9abb71",
   "metadata": {},
   "source": [
    "Finding the best params for this random forest classifier using GridSearchCV"
   ]
  },
  {
   "cell_type": "code",
   "execution_count": 13,
   "id": "81732e09",
   "metadata": {},
   "outputs": [],
   "source": [
    "from sklearn.model_selection import GridSearchCV"
   ]
  },
  {
   "cell_type": "code",
   "execution_count": 14,
   "id": "57d6e298",
   "metadata": {},
   "outputs": [],
   "source": [
    "param_grid = {\n",
    "    'n_estimators': [100, 200, 500, 1000],\n",
    "    'max_depth': [None, 10, 20, 30, 50],\n",
    "    'max_features': ['sqrt', 'log2']\n",
    "}"
   ]
  },
  {
   "cell_type": "code",
   "execution_count": 15,
   "id": "83c58d79",
   "metadata": {},
   "outputs": [],
   "source": [
    "grid_search = GridSearchCV(rfc, param_grid=param_grid)"
   ]
  },
  {
   "cell_type": "code",
   "execution_count": 17,
   "id": "0ae349b2",
   "metadata": {},
   "outputs": [],
   "source": [
    "def get_best_params(grid):\n",
    "    grid.fit(X_train, y_train)\n",
    "    best_params = grid.best_params_\n",
    "    return best_params\n",
    "    \n",
    "# best_params = get_best_params(grid_search)\n",
    "#above was done, result is typed out below, saved for\n",
    "#running time reasons if I need to re-run program\n",
    "#Plan to eventually re-do best_params, but for now,\n",
    "#un necessary"
   ]
  },
  {
   "cell_type": "code",
   "execution_count": 26,
   "id": "8abac554",
   "metadata": {},
   "outputs": [],
   "source": [
    "#This was calculated way earlier, like I said, might redo soon\n",
    "best_params = {'max_depth': None,\n",
    "              'max_features': 'sqrt',\n",
    "              'n_estimators': 500}"
   ]
  },
  {
   "cell_type": "markdown",
   "id": "3b5e022d",
   "metadata": {},
   "source": [
    "Using these best parameters to make an accurate Random Forest Classifier"
   ]
  },
  {
   "cell_type": "code",
   "execution_count": 27,
   "id": "c008debe",
   "metadata": {},
   "outputs": [],
   "source": [
    "rf_clf = RandomForestClassifier(n_estimators=best_params['n_estimators'],\n",
    "                               max_depth=best_params['max_depth'],\n",
    "                               max_features=best_params['max_features'],\n",
    "                               random_state=42)"
   ]
  },
  {
   "cell_type": "code",
   "execution_count": 28,
   "id": "c510f699",
   "metadata": {},
   "outputs": [
    {
     "data": {
      "text/plain": [
       "RandomForestClassifier(max_features='sqrt', n_estimators=500, random_state=42)"
      ]
     },
     "execution_count": 28,
     "metadata": {},
     "output_type": "execute_result"
    }
   ],
   "source": [
    "rf_clf.fit(X_train, y_train)\n"
   ]
  },
  {
   "cell_type": "code",
   "execution_count": 29,
   "id": "4e22bb27",
   "metadata": {},
   "outputs": [],
   "source": [
    "y_pred = rf_clf.predict(X_test)"
   ]
  },
  {
   "cell_type": "code",
   "execution_count": 30,
   "id": "ba95f8da",
   "metadata": {},
   "outputs": [],
   "source": [
    "from sklearn.metrics import accuracy_score"
   ]
  },
  {
   "cell_type": "code",
   "execution_count": 31,
   "id": "d10aeb52",
   "metadata": {},
   "outputs": [
    {
     "name": "stdout",
     "output_type": "stream",
     "text": [
      "Accuracy after Hyperparameter Tuning: 0.3384479197403364\n"
     ]
    }
   ],
   "source": [
    "acc = accuracy_score(y_test, y_pred)\n",
    "print(\"Accuracy after Hyperparameter Tuning:\", acc)"
   ]
  },
  {
   "cell_type": "markdown",
   "id": "55cb5a40",
   "metadata": {},
   "source": [
    "Initial accuracy very low. After some exploratory data analysis you can see the following: Certain types of birds have a lot of examples while a few have very few."
   ]
  },
  {
   "cell_type": "code",
   "execution_count": 4,
   "id": "a3058eff",
   "metadata": {},
   "outputs": [
    {
     "data": {
      "text/plain": [
       "<BarContainer object of 264 artists>"
      ]
     },
     "execution_count": 4,
     "metadata": {},
     "output_type": "execute_result"
    },
    {
     "data": {
      "image/png": "[encoded data removed]",
      "text/plain": [
       "<Figure size 640x480 with 1 Axes>"
      ]
     },
     "metadata": {},
     "output_type": "display_data"
    }
   ],
   "source": [
    "type_of_bird_count = train_data['primary_label'].value_counts()\n",
    "plt.bar(type_of_bird_count.index, type_of_bird_count.values)"
   ]
  },
  {
   "cell_type": "markdown",
   "id": "dfac8092",
   "metadata": {},
   "source": [
    "# Accuracy is low, change sampling to help with accuracy. Using Random Over Sampler."
   ]
  },
  {
   "cell_type": "code",
   "execution_count": 32,
   "id": "ac2cdd5e",
   "metadata": {},
   "outputs": [],
   "source": [
    "from imblearn.over_sampling import RandomOverSampler"
   ]
  },
  {
   "cell_type": "code",
   "execution_count": 33,
   "id": "8d181f10",
   "metadata": {},
   "outputs": [],
   "source": [
    "ros = RandomOverSampler(random_state=42)"
   ]
  },
  {
   "cell_type": "code",
   "execution_count": 34,
   "id": "c46b1a55",
   "metadata": {},
   "outputs": [],
   "source": [
    "# Resample the data\n",
    "X_resampled, y_resampled = ros.fit_resample(X, y)"
   ]
  },
  {
   "cell_type": "code",
   "execution_count": 35,
   "id": "9e5bb9fd",
   "metadata": {},
   "outputs": [],
   "source": [
    "# Split the resampled data into train and test sets\n",
    "X_train, X_test, y_train, y_test = train_test_split(X_resampled, y_resampled, test_size=0.3, random_state=42)"
   ]
  },
  {
   "cell_type": "code",
   "execution_count": 36,
   "id": "977bb35a",
   "metadata": {},
   "outputs": [
    {
     "data": {
      "text/plain": [
       "RandomForestClassifier(n_estimators=500, random_state=42)"
      ]
     },
     "execution_count": 36,
     "metadata": {},
     "output_type": "execute_result"
    }
   ],
   "source": [
    "# Train random forest classifier on resampled data\n",
    "resampled_rfc = RandomForestClassifier(n_estimators=500, random_state=42)\n",
    "resampled_rfc.fit(X_train, y_train)"
   ]
  },
  {
   "cell_type": "code",
   "execution_count": 37,
   "id": "3c68b120",
   "metadata": {},
   "outputs": [
    {
     "name": "stdout",
     "output_type": "stream",
     "text": [
      "Accuracy on test set: 97.08%\n"
     ]
    }
   ],
   "source": [
    "# Test the classifier on the test set\n",
    "accuracy = resampled_rfc.score(X_test, y_test)\n",
    "print(\"Accuracy on test set: {:.2f}%\".format(accuracy * 100))"
   ]
  },
  {
   "cell_type": "code",
   "execution_count": 38,
   "id": "b79d04a6",
   "metadata": {},
   "outputs": [],
   "source": [
    "new_y_pred = resampled_rfc.predict(X_test)"
   ]
  },
  {
   "cell_type": "code",
   "execution_count": 39,
   "id": "69f8ae7f",
   "metadata": {},
   "outputs": [
    {
     "data": {
      "text/plain": [
       "array(['Buff-bellied Warbler', 'Woodland Kingfisher',\n",
       "       'Brown Woodland-Warbler', ..., 'Cinnamon Bracken-Warbler',\n",
       "       'Streaky Seedeater', 'Yellow-bellied Greenbul'], dtype='<U32')"
      ]
     },
     "execution_count": 39,
     "metadata": {},
     "output_type": "execute_result"
    }
   ],
   "source": [
    "new_y_pred"
   ]
  },
  {
   "cell_type": "markdown",
   "id": "0223b444",
   "metadata": {},
   "source": [
    "Finding out how many were misclassified in relation to y_test. Accuracy score already exists, but seeing the numbers is interesting"
   ]
  },
  {
   "cell_type": "code",
   "execution_count": 40,
   "id": "84db4f90",
   "metadata": {},
   "outputs": [],
   "source": [
    "import numpy as np"
   ]
  },
  {
   "cell_type": "code",
   "execution_count": 41,
   "id": "bec94bd9",
   "metadata": {},
   "outputs": [],
   "source": [
    "# Find indices of misclassified samples\n",
    "misclassified = np.where(y_test != new_y_pred)[0]"
   ]
  },
  {
   "cell_type": "code",
   "execution_count": 48,
   "id": "bd87ec65",
   "metadata": {},
   "outputs": [
    {
     "name": "stdout",
     "output_type": "stream",
     "text": [
      "1158\n"
     ]
    }
   ],
   "source": [
    "#num wrong\n",
    "print(len(misclassified))"
   ]
  },
  {
   "cell_type": "code",
   "execution_count": 49,
   "id": "039f6cb4",
   "metadata": {},
   "outputs": [
    {
     "name": "stdout",
     "output_type": "stream",
     "text": [
      "39600\n"
     ]
    }
   ],
   "source": [
    "#total num\n",
    "print(len(y_test))"
   ]
  },
  {
   "cell_type": "markdown",
   "id": "38ffde3e",
   "metadata": {},
   "source": [
    "Model works, so I am saving it to my folder so I can use it in a different file for the identification in the longer audio clip"
   ]
  },
  {
   "cell_type": "code",
   "execution_count": 59,
   "id": "3acd6ece",
   "metadata": {},
   "outputs": [],
   "source": [
    "ML_save_path = \"C:\\\\Users\\\\mjjyo\\\\OneDrive\\\\Desktop\\\\birdclef-2023\\\\bird_model.pk1\""
   ]
  },
  {
   "cell_type": "code",
   "execution_count": 60,
   "id": "07746e24",
   "metadata": {},
   "outputs": [],
   "source": [
    "import joblib\n"
   ]
  },
  {
   "cell_type": "code",
   "execution_count": 61,
   "id": "fa5fe81f",
   "metadata": {},
   "outputs": [
    {
     "data": {
      "text/plain": [
       "['C:\\\\Users\\\\mjjyo\\\\OneDrive\\\\Desktop\\\\birdclef-2023\\\\bird_model.pk1']"
      ]
     },
     "execution_count": 61,
     "metadata": {},
     "output_type": "execute_result"
    }
   ],
   "source": [
    "joblib.dump(resampled_rfc, ML_save_path)  "
   ]
  },
  {
   "cell_type": "code",
   "execution_count": null,
   "id": "20d79761",
   "metadata": {},
   "outputs": [],
   "source": []
  }
 ],
 "metadata": {
  "kernelspec": {
   "display_name": "Python 3 (ipykernel)",
   "language": "python",
   "name": "python3"
  },
  "language_info": {
   "codemirror_mode": {
    "name": "ipython",
    "version": 3
   },
   "file_extension": ".py",
   "mimetype": "text/x-python",
   "name": "python",
   "nbconvert_exporter": "python",
   "pygments_lexer": "ipython3",
   "version": "3.9.13"
  }
 },
 "nbformat": 4,
 "nbformat_minor": 5
}
