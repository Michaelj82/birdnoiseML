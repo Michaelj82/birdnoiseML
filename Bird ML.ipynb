{
 "cells": [
  {
   "cell_type": "code",
   "execution_count": 105,
   "id": "b3695182",
   "metadata": {},
   "outputs": [],
   "source": [
    "import pandas as pd\n",
    "import numpy as np\n",
    "from matplotlib import pyplot as plt\n",
    "import librosa\n",
    "import librosa.display"
   ]
  },
  {
   "cell_type": "code",
   "execution_count": null,
   "id": "d9ccdac7",
   "metadata": {},
   "outputs": [],
   "source": []
  },
  {
   "cell_type": "code",
   "execution_count": 106,
   "id": "17aa56f2",
   "metadata": {},
   "outputs": [],
   "source": [
    "path = \"C:\\\\Users\\\\mjjyo\\\\OneDrive\\\\Desktop\\\\birdclef-2023\\\\train_audio\\\\abethr1\\\\XC128013.OGG\""
   ]
  },
  {
   "cell_type": "code",
   "execution_count": 107,
   "id": "5f3a29b8",
   "metadata": {},
   "outputs": [],
   "source": [
    "y, sr = librosa.load(path)"
   ]
  },
  {
   "cell_type": "markdown",
   "id": "f18c113e",
   "metadata": {},
   "source": [
    "Get features, this below is test for doing it on the huge train dataset"
   ]
  },
  {
   "cell_type": "code",
   "execution_count": 108,
   "id": "46bc3da8",
   "metadata": {},
   "outputs": [],
   "source": [
    "mfccs = librosa.feature.mfcc(y=y, sr=sr, n_mfcc=20)"
   ]
  },
  {
   "cell_type": "code",
   "execution_count": 109,
   "id": "2fbd7777",
   "metadata": {},
   "outputs": [],
   "source": [
    "chroma = librosa.feature.chroma_stft(y=y, sr=sr)"
   ]
  },
  {
   "cell_type": "code",
   "execution_count": 110,
   "id": "bdaf6213",
   "metadata": {},
   "outputs": [],
   "source": [
    "spectral_contrast = librosa.feature.spectral_contrast(y=y, sr=sr)"
   ]
  },
  {
   "cell_type": "code",
   "execution_count": 111,
   "id": "59145c21",
   "metadata": {},
   "outputs": [],
   "source": [
    "features = np.concatenate((mfccs, \n",
    "                           chroma, \n",
    "                           spectral_contrast), axis=0)"
   ]
  },
  {
   "cell_type": "code",
   "execution_count": 112,
   "id": "a87d8f06",
   "metadata": {},
   "outputs": [],
   "source": [
    "features = features.flatten()"
   ]
  },
  {
   "cell_type": "code",
   "execution_count": 113,
   "id": "79a78928",
   "metadata": {},
   "outputs": [
    {
     "name": "stdout",
     "output_type": "stream",
     "text": [
      "[-475.6585083  -331.29110718 -293.82373047 ...   41.88336506   32.07644388\n",
      "   24.24597165]\n"
     ]
    }
   ],
   "source": [
    "print(features)"
   ]
  },
  {
   "cell_type": "code",
   "execution_count": null,
   "id": "11a70cd3",
   "metadata": {},
   "outputs": [],
   "source": []
  },
  {
   "cell_type": "code",
   "execution_count": 79,
   "id": "93245080",
   "metadata": {},
   "outputs": [],
   "source": [
    "train_data = pd.read_csv(\"C:\\\\Users\\\\mjjyo\\\\OneDrive\\\\Desktop\\\\birdclef-2023\\\\train_metadata.csv\")"
   ]
  },
  {
   "cell_type": "code",
   "execution_count": 80,
   "id": "5202aa8d",
   "metadata": {},
   "outputs": [
    {
     "data": {
      "text/html": [
       "<div>\n",
       "<style scoped>\n",
       "    .dataframe tbody tr th:only-of-type {\n",
       "        vertical-align: middle;\n",
       "    }\n",
       "\n",
       "    .dataframe tbody tr th {\n",
       "        vertical-align: top;\n",
       "    }\n",
       "\n",
       "    .dataframe thead th {\n",
       "        text-align: right;\n",
       "    }\n",
       "</style>\n",
       "<table border=\"1\" class=\"dataframe\">\n",
       "  <thead>\n",
       "    <tr style=\"text-align: right;\">\n",
       "      <th></th>\n",
       "      <th>primary_label</th>\n",
       "      <th>secondary_labels</th>\n",
       "      <th>type</th>\n",
       "      <th>latitude</th>\n",
       "      <th>longitude</th>\n",
       "      <th>scientific_name</th>\n",
       "      <th>common_name</th>\n",
       "      <th>author</th>\n",
       "      <th>license</th>\n",
       "      <th>rating</th>\n",
       "      <th>url</th>\n",
       "      <th>filename</th>\n",
       "    </tr>\n",
       "  </thead>\n",
       "  <tbody>\n",
       "    <tr>\n",
       "      <th>0</th>\n",
       "      <td>abethr1</td>\n",
       "      <td>[]</td>\n",
       "      <td>['song']</td>\n",
       "      <td>4.3906</td>\n",
       "      <td>38.2788</td>\n",
       "      <td>Turdus tephronotus</td>\n",
       "      <td>African Bare-eyed Thrush</td>\n",
       "      <td>Rolf A. de By</td>\n",
       "      <td>Creative Commons Attribution-NonCommercial-Sha...</td>\n",
       "      <td>4.0</td>\n",
       "      <td>https://www.xeno-canto.org/128013</td>\n",
       "      <td>abethr1/XC128013.ogg</td>\n",
       "    </tr>\n",
       "    <tr>\n",
       "      <th>1</th>\n",
       "      <td>abethr1</td>\n",
       "      <td>[]</td>\n",
       "      <td>['call']</td>\n",
       "      <td>-2.9524</td>\n",
       "      <td>38.2921</td>\n",
       "      <td>Turdus tephronotus</td>\n",
       "      <td>African Bare-eyed Thrush</td>\n",
       "      <td>James Bradley</td>\n",
       "      <td>Creative Commons Attribution-NonCommercial-Sha...</td>\n",
       "      <td>3.5</td>\n",
       "      <td>https://www.xeno-canto.org/363501</td>\n",
       "      <td>abethr1/XC363501.ogg</td>\n",
       "    </tr>\n",
       "    <tr>\n",
       "      <th>2</th>\n",
       "      <td>abethr1</td>\n",
       "      <td>[]</td>\n",
       "      <td>['song']</td>\n",
       "      <td>-2.9524</td>\n",
       "      <td>38.2921</td>\n",
       "      <td>Turdus tephronotus</td>\n",
       "      <td>African Bare-eyed Thrush</td>\n",
       "      <td>James Bradley</td>\n",
       "      <td>Creative Commons Attribution-NonCommercial-Sha...</td>\n",
       "      <td>3.5</td>\n",
       "      <td>https://www.xeno-canto.org/363502</td>\n",
       "      <td>abethr1/XC363502.ogg</td>\n",
       "    </tr>\n",
       "    <tr>\n",
       "      <th>3</th>\n",
       "      <td>abethr1</td>\n",
       "      <td>[]</td>\n",
       "      <td>['song']</td>\n",
       "      <td>-2.9524</td>\n",
       "      <td>38.2921</td>\n",
       "      <td>Turdus tephronotus</td>\n",
       "      <td>African Bare-eyed Thrush</td>\n",
       "      <td>James Bradley</td>\n",
       "      <td>Creative Commons Attribution-NonCommercial-Sha...</td>\n",
       "      <td>5.0</td>\n",
       "      <td>https://www.xeno-canto.org/363503</td>\n",
       "      <td>abethr1/XC363503.ogg</td>\n",
       "    </tr>\n",
       "    <tr>\n",
       "      <th>4</th>\n",
       "      <td>abethr1</td>\n",
       "      <td>[]</td>\n",
       "      <td>['call', 'song']</td>\n",
       "      <td>-2.9524</td>\n",
       "      <td>38.2921</td>\n",
       "      <td>Turdus tephronotus</td>\n",
       "      <td>African Bare-eyed Thrush</td>\n",
       "      <td>James Bradley</td>\n",
       "      <td>Creative Commons Attribution-NonCommercial-Sha...</td>\n",
       "      <td>4.5</td>\n",
       "      <td>https://www.xeno-canto.org/363504</td>\n",
       "      <td>abethr1/XC363504.ogg</td>\n",
       "    </tr>\n",
       "    <tr>\n",
       "      <th>...</th>\n",
       "      <td>...</td>\n",
       "      <td>...</td>\n",
       "      <td>...</td>\n",
       "      <td>...</td>\n",
       "      <td>...</td>\n",
       "      <td>...</td>\n",
       "      <td>...</td>\n",
       "      <td>...</td>\n",
       "      <td>...</td>\n",
       "      <td>...</td>\n",
       "      <td>...</td>\n",
       "      <td>...</td>\n",
       "    </tr>\n",
       "    <tr>\n",
       "      <th>16936</th>\n",
       "      <td>yewgre1</td>\n",
       "      <td>[]</td>\n",
       "      <td>['']</td>\n",
       "      <td>-1.2502</td>\n",
       "      <td>29.7971</td>\n",
       "      <td>Eurillas latirostris</td>\n",
       "      <td>Yellow-whiskered Greenbul</td>\n",
       "      <td>András Schmidt</td>\n",
       "      <td>Creative Commons Attribution-NonCommercial-Sha...</td>\n",
       "      <td>3.0</td>\n",
       "      <td>https://xeno-canto.org/703472</td>\n",
       "      <td>yewgre1/XC703472.ogg</td>\n",
       "    </tr>\n",
       "    <tr>\n",
       "      <th>16937</th>\n",
       "      <td>yewgre1</td>\n",
       "      <td>[]</td>\n",
       "      <td>['']</td>\n",
       "      <td>-1.2489</td>\n",
       "      <td>29.7923</td>\n",
       "      <td>Eurillas latirostris</td>\n",
       "      <td>Yellow-whiskered Greenbul</td>\n",
       "      <td>András Schmidt</td>\n",
       "      <td>Creative Commons Attribution-NonCommercial-Sha...</td>\n",
       "      <td>4.0</td>\n",
       "      <td>https://xeno-canto.org/703485</td>\n",
       "      <td>yewgre1/XC703485.ogg</td>\n",
       "    </tr>\n",
       "    <tr>\n",
       "      <th>16938</th>\n",
       "      <td>yewgre1</td>\n",
       "      <td>[]</td>\n",
       "      <td>['']</td>\n",
       "      <td>-1.2433</td>\n",
       "      <td>29.7844</td>\n",
       "      <td>Eurillas latirostris</td>\n",
       "      <td>Yellow-whiskered Greenbul</td>\n",
       "      <td>András Schmidt</td>\n",
       "      <td>Creative Commons Attribution-NonCommercial-Sha...</td>\n",
       "      <td>4.0</td>\n",
       "      <td>https://xeno-canto.org/704433</td>\n",
       "      <td>yewgre1/XC704433.ogg</td>\n",
       "    </tr>\n",
       "    <tr>\n",
       "      <th>16939</th>\n",
       "      <td>yewgre1</td>\n",
       "      <td>[]</td>\n",
       "      <td>['']</td>\n",
       "      <td>0.0452</td>\n",
       "      <td>36.3699</td>\n",
       "      <td>Eurillas latirostris</td>\n",
       "      <td>Yellow-whiskered Greenbul</td>\n",
       "      <td>Lars Lachmann</td>\n",
       "      <td>Creative Commons Attribution-NonCommercial-Sha...</td>\n",
       "      <td>4.0</td>\n",
       "      <td>https://xeno-canto.org/752974</td>\n",
       "      <td>yewgre1/XC752974.ogg</td>\n",
       "    </tr>\n",
       "    <tr>\n",
       "      <th>16940</th>\n",
       "      <td>yewgre1</td>\n",
       "      <td>[]</td>\n",
       "      <td>['']</td>\n",
       "      <td>-0.3986</td>\n",
       "      <td>37.3087</td>\n",
       "      <td>Eurillas latirostris</td>\n",
       "      <td>Yellow-whiskered Greenbul</td>\n",
       "      <td>Lars Lachmann</td>\n",
       "      <td>Creative Commons Attribution-NonCommercial-Sha...</td>\n",
       "      <td>4.5</td>\n",
       "      <td>https://xeno-canto.org/753190</td>\n",
       "      <td>yewgre1/XC753190.ogg</td>\n",
       "    </tr>\n",
       "  </tbody>\n",
       "</table>\n",
       "<p>16714 rows × 12 columns</p>\n",
       "</div>"
      ],
      "text/plain": [
       "      primary_label secondary_labels              type  latitude  longitude  \\\n",
       "0           abethr1               []          ['song']    4.3906    38.2788   \n",
       "1           abethr1               []          ['call']   -2.9524    38.2921   \n",
       "2           abethr1               []          ['song']   -2.9524    38.2921   \n",
       "3           abethr1               []          ['song']   -2.9524    38.2921   \n",
       "4           abethr1               []  ['call', 'song']   -2.9524    38.2921   \n",
       "...             ...              ...               ...       ...        ...   \n",
       "16936       yewgre1               []              ['']   -1.2502    29.7971   \n",
       "16937       yewgre1               []              ['']   -1.2489    29.7923   \n",
       "16938       yewgre1               []              ['']   -1.2433    29.7844   \n",
       "16939       yewgre1               []              ['']    0.0452    36.3699   \n",
       "16940       yewgre1               []              ['']   -0.3986    37.3087   \n",
       "\n",
       "            scientific_name                common_name          author  \\\n",
       "0        Turdus tephronotus   African Bare-eyed Thrush   Rolf A. de By   \n",
       "1        Turdus tephronotus   African Bare-eyed Thrush   James Bradley   \n",
       "2        Turdus tephronotus   African Bare-eyed Thrush   James Bradley   \n",
       "3        Turdus tephronotus   African Bare-eyed Thrush   James Bradley   \n",
       "4        Turdus tephronotus   African Bare-eyed Thrush   James Bradley   \n",
       "...                     ...                        ...             ...   \n",
       "16936  Eurillas latirostris  Yellow-whiskered Greenbul  András Schmidt   \n",
       "16937  Eurillas latirostris  Yellow-whiskered Greenbul  András Schmidt   \n",
       "16938  Eurillas latirostris  Yellow-whiskered Greenbul  András Schmidt   \n",
       "16939  Eurillas latirostris  Yellow-whiskered Greenbul   Lars Lachmann   \n",
       "16940  Eurillas latirostris  Yellow-whiskered Greenbul   Lars Lachmann   \n",
       "\n",
       "                                                 license  rating  \\\n",
       "0      Creative Commons Attribution-NonCommercial-Sha...     4.0   \n",
       "1      Creative Commons Attribution-NonCommercial-Sha...     3.5   \n",
       "2      Creative Commons Attribution-NonCommercial-Sha...     3.5   \n",
       "3      Creative Commons Attribution-NonCommercial-Sha...     5.0   \n",
       "4      Creative Commons Attribution-NonCommercial-Sha...     4.5   \n",
       "...                                                  ...     ...   \n",
       "16936  Creative Commons Attribution-NonCommercial-Sha...     3.0   \n",
       "16937  Creative Commons Attribution-NonCommercial-Sha...     4.0   \n",
       "16938  Creative Commons Attribution-NonCommercial-Sha...     4.0   \n",
       "16939  Creative Commons Attribution-NonCommercial-Sha...     4.0   \n",
       "16940  Creative Commons Attribution-NonCommercial-Sha...     4.5   \n",
       "\n",
       "                                     url              filename  \n",
       "0      https://www.xeno-canto.org/128013  abethr1/XC128013.ogg  \n",
       "1      https://www.xeno-canto.org/363501  abethr1/XC363501.ogg  \n",
       "2      https://www.xeno-canto.org/363502  abethr1/XC363502.ogg  \n",
       "3      https://www.xeno-canto.org/363503  abethr1/XC363503.ogg  \n",
       "4      https://www.xeno-canto.org/363504  abethr1/XC363504.ogg  \n",
       "...                                  ...                   ...  \n",
       "16936      https://xeno-canto.org/703472  yewgre1/XC703472.ogg  \n",
       "16937      https://xeno-canto.org/703485  yewgre1/XC703485.ogg  \n",
       "16938      https://xeno-canto.org/704433  yewgre1/XC704433.ogg  \n",
       "16939      https://xeno-canto.org/752974  yewgre1/XC752974.ogg  \n",
       "16940      https://xeno-canto.org/753190  yewgre1/XC753190.ogg  \n",
       "\n",
       "[16714 rows x 12 columns]"
      ]
     },
     "execution_count": 80,
     "metadata": {},
     "output_type": "execute_result"
    }
   ],
   "source": [
    "train_data.dropna()"
   ]
  },
  {
   "cell_type": "code",
   "execution_count": 81,
   "id": "e2d21cb7",
   "metadata": {},
   "outputs": [],
   "source": [
    "names = train_data['common_name'].dropna()"
   ]
  },
  {
   "cell_type": "code",
   "execution_count": 82,
   "id": "b7ffb185",
   "metadata": {},
   "outputs": [],
   "source": [
    "audio_files = train_data['filename'].dropna()"
   ]
  },
  {
   "cell_type": "code",
   "execution_count": 83,
   "id": "d2d6a308",
   "metadata": {},
   "outputs": [
    {
     "name": "stderr",
     "output_type": "stream",
     "text": [
      "C:\\Users\\mjjyo\\anaconda3\\lib\\site-packages\\librosa\\core\\pitch.py:102: UserWarning: Trying to estimate tuning from empty frequency set.\n",
      "  return pitch_tuning(\n"
     ]
    }
   ],
   "source": [
    "for i, j in audio_files.iteritems():\n",
    "    adjusted = j.split(\"/\")\n",
    "    file = \"C:\\\\Users\\\\mjjyo\\\\OneDrive\\\\Desktop\\\\birdclef-2023\\\\train_audio\\\\\" + adjusted[0] + \"\\\\\" + adjusted[1]\n",
    "    y, sr = librosa.load(file)\n",
    "    mfccs = librosa.feature.mfcc(y=y, sr=sr, n_mfcc=20)\n",
    "    chroma = librosa.feature.chroma_stft(y=y, sr=sr)\n",
    "    spectral_contrast = librosa.feature.spectral_contrast(y=y, sr=sr)\n",
    "    \n",
    "    features = np.concatenate((mfccs, \n",
    "                           chroma, \n",
    "                           spectral_contrast), axis=0)\n",
    "    \n",
    "    features = features.flatten()\n",
    "    \n",
    "    audio_files[i] = features"
   ]
  },
  {
   "cell_type": "code",
   "execution_count": 101,
   "id": "283d69c5",
   "metadata": {},
   "outputs": [],
   "source": [
    "audio_files.to_csv(r'C:\\\\Users\\\\mjjyo\\\\OneDrive\\\\Desktop\\\\birdclef-2023\\\\audio_features.csv')"
   ]
  },
  {
   "cell_type": "code",
   "execution_count": null,
   "id": "01cca662",
   "metadata": {},
   "outputs": [],
   "source": []
  }
 ],
 "metadata": {
  "kernelspec": {
   "display_name": "Python 3 (ipykernel)",
   "language": "python",
   "name": "python3"
  },
  "language_info": {
   "codemirror_mode": {
    "name": "ipython",
    "version": 3
   },
   "file_extension": ".py",
   "mimetype": "text/x-python",
   "name": "python",
   "nbconvert_exporter": "python",
   "pygments_lexer": "ipython3",
   "version": "3.9.13"
  }
 },
 "nbformat": 4,
 "nbformat_minor": 5
}
